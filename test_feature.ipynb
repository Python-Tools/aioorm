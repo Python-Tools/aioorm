{
 "cells": [
  {
   "cell_type": "code",
   "execution_count": 1,
   "metadata": {},
   "outputs": [
    {
     "name": "stderr",
     "output_type": "stream",
     "text": [
      "/Users/huangsizhe/LIB/CONDA/anaconda/lib/python3.6/site-packages/psycopg2/__init__.py:144: UserWarning: The psycopg2 wheel package will be renamed from release 2.8; in order to keep installing from binary please use \"pip install psycopg2-binary\" instead. For details see: <http://initd.org/psycopg/docs/install.html#binary-install-from-pypi>.\n",
      "  \"\"\")\n"
     ]
    }
   ],
   "source": [
    "import peewee"
   ]
  },
  {
   "cell_type": "code",
   "execution_count": 1,
   "metadata": {},
   "outputs": [
    {
     "name": "stderr",
     "output_type": "stream",
     "text": [
      "/Users/huangsizhe/LIB/CONDA/anaconda/lib/python3.6/site-packages/psycopg2/__init__.py:144: UserWarning: The psycopg2 wheel package will be renamed from release 2.8; in order to keep installing from binary please use \"pip install psycopg2-binary\" instead. For details see: <http://initd.org/psycopg/docs/install.html#binary-install-from-pypi>.\n",
      "  \"\"\")\n"
     ]
    }
   ],
   "source": [
    "import asyncio\n",
    "from aioorm import AioModel, AioMySQLDatabase,AioPostgreSQLDatabase\n",
    "from aioorm.utils import aiodump_csv,aioload_csv\n",
    "from peewee import (ForeignKeyField, IntegerField, CharField,\n",
    "                    DateTimeField, TextField, PrimaryKeyField,Proxy,\n",
    "                    SQL)\n",
    "\n",
    "from io import StringIO\n",
    "import aiofiles\n",
    "from itertools import count\n",
    "from pathlib import Path\n",
    "from aitertools import alist\n",
    "import os"
   ]
  },
  {
   "cell_type": "code",
   "execution_count": 2,
   "metadata": {
    "collapsed": true
   },
   "outputs": [],
   "source": [
    "db = Proxy()"
   ]
  },
  {
   "cell_type": "code",
   "execution_count": 3,
   "metadata": {
    "collapsed": true
   },
   "outputs": [],
   "source": [
    "class User_csv(AioModel):\n",
    "    name = CharField(max_length=25)\n",
    "    age = IntegerField()\n",
    "    sex = CharField(max_length=1)\n",
    "\n",
    "    class Meta:\n",
    "        database = db"
   ]
  },
  {
   "cell_type": "code",
   "execution_count": 4,
   "metadata": {
    "collapsed": true
   },
   "outputs": [],
   "source": [
    "class User_csv_f(AioModel):\n",
    "    id = PrimaryKeyField()\n",
    "    name = CharField(max_length=25)\n",
    "    age = IntegerField()\n",
    "    sex = CharField(max_length=1)\n",
    "    \n",
    "    def __repr__(self):\n",
    "        return '{self.id},{self.name},{self.age},{self.sex}'.format(self=self)\n",
    "\n",
    "    class Meta:\n",
    "        database = db"
   ]
  },
  {
   "cell_type": "code",
   "execution_count": 5,
   "metadata": {
    "collapsed": true
   },
   "outputs": [],
   "source": [
    "database = AioPostgreSQLDatabase('test_ext',\n",
    "                                 host='localhost',\n",
    "                                 port=5432,\n",
    "                       user='huangsizhe')\n",
    "db.initialize(database)"
   ]
  },
  {
   "cell_type": "code",
   "execution_count": 24,
   "metadata": {
    "collapsed": true
   },
   "outputs": [],
   "source": [
    "# database = AioMySQLDatabase('test',\n",
    "#                                  host='127.0.0.1',\n",
    "#                                  port=3306,\n",
    "#                        user='root',password = \"hsz881224\")\n",
    "# db.initialize(database)"
   ]
  },
  {
   "cell_type": "code",
   "execution_count": 6,
   "metadata": {
    "collapsed": true
   },
   "outputs": [],
   "source": [
    "loop = asyncio.new_event_loop()\n",
    "asyncio.set_event_loop(loop)"
   ]
  },
  {
   "cell_type": "code",
   "execution_count": 26,
   "metadata": {
    "collapsed": true
   },
   "outputs": [],
   "source": [
    "async def test_csv_dump(loop):\n",
    "    await db.connect(loop)\n",
    "\n",
    "    assert await User_csv.table_exists() is False\n",
    "    await User_csv.create_table()\n",
    "    assert await User_csv.table_exists() is True\n",
    "    iq = User_csv.insert_many([\n",
    "        {'name': 'u1',\"age\":18,'sex':'f'},\n",
    "        {'name': 'u2',\"age\":17,'sex':'f'},\n",
    "        {'name': 'u3',\"age\":16,'sex':'m'},\n",
    "        {'name': 'u4',\"age\":15,'sex':'f'}])\n",
    "\n",
    "    await iq.execute()\n",
    "    #p = Path('.').absolute().parent\n",
    "    #filepath = p.joinpath('user_out.csv')\n",
    "    query = User_csv.select().order_by(User_csv.id)\n",
    "    #await aiodump_csv(query,str(filepath))\n",
    "    with StringIO() as f:\n",
    "        await aiodump_csv(query,f)\n",
    "        source = f.getvalue()\n",
    "        print(source)\n",
    "        await aioload_csv(User_csv_f, f,pk_in_csv=True)\n",
    "        all_cols = SQL('*')\n",
    "\n",
    "        query0 = User_csv_f.select(all_cols).order_by(User_csv_f.id)\n",
    "        user0 = await alist(query0)\n",
    "        (os.linesep).join([str(i) for i in user0])\n",
    "    await User_csv_f.drop_table()\n",
    "    \n",
    "    async with aiofiles.open('0_user_out.csv') as ff:\n",
    "        er = await aioload_csv(User_csv_f, ff,pk_in_csv=True)\n",
    "        \n",
    "    await User_csv_f.drop_table()\n",
    "    \n",
    "    await aioload_csv(User_csv_f, '0_user_out.csv',pk_in_csv=True)\n",
    "        \n",
    "    await User_csv_f.drop_table()\n",
    "    await User_csv.drop_table()\n",
    "    assert await User_csv.table_exists() is False\n",
    "\n",
    "    await db.close()"
   ]
  },
  {
   "cell_type": "code",
   "execution_count": 27,
   "metadata": {},
   "outputs": [
    {
     "name": "stdout",
     "output_type": "stream",
     "text": [
      "id,name,age,sex\n",
      "1,u1,18,f\n",
      "2,u2,17,f\n",
      "3,u3,16,m\n",
      "4,u4,15,f\n",
      "\n"
     ]
    }
   ],
   "source": [
    "loop.run_until_complete(test_csv_dump(loop))"
   ]
  },
  {
   "cell_type": "markdown",
   "metadata": {},
   "source": [
    "## 测试get 和get_or_create"
   ]
  },
  {
   "cell_type": "code",
   "execution_count": 36,
   "metadata": {
    "collapsed": true
   },
   "outputs": [],
   "source": [
    "async def test_get(loop):\n",
    "    await db.connect(loop)\n",
    "\n",
    "    assert await User_csv.table_exists() is False\n",
    "    await User_csv.create_table()\n",
    "    assert await User_csv.table_exists() is True\n",
    "    iq = User_csv.insert_many([\n",
    "        {'name': 'u1',\"age\":18,'sex':'f'},\n",
    "        {'name': 'u2',\"age\":17,'sex':'f'},\n",
    "        {'name': 'u3',\"age\":16,'sex':'m'},\n",
    "        {'name': 'u4',\"age\":15,'sex':'f'}])\n",
    "\n",
    "    await iq.execute()\n",
    "    \n",
    "    r = await User_csv.get(User_csv.name == \"u1\")\n",
    "    print(r.name)\n",
    "    print(r.age)\n",
    "    print(r.sex)\n",
    "    \n",
    "    r = await User_csv.get(User_csv.name == \"u5\")\n",
    "    print(r)\n",
    "\n",
    "    \n",
    "    r, created = await User_csv.get_or_create(name = \"u1\")\n",
    "\n",
    "    print(r.name)\n",
    "    print(r.age)\n",
    "    print(r.sex)\n",
    "    \n",
    "    r, created = await User_csv.get_or_create(name = \"u5\",age=25,sex='f')\n",
    "\n",
    "    print(r.name)\n",
    "    print(r.age)\n",
    "    print(r.sex)\n",
    "    \n",
    "    await User_csv.drop_table()\n",
    "\n",
    "    await db.close()"
   ]
  },
  {
   "cell_type": "code",
   "execution_count": 37,
   "metadata": {},
   "outputs": [
    {
     "name": "stdout",
     "output_type": "stream",
     "text": [
      "u1\n",
      "18\n",
      "f\n",
      "None\n",
      "u1\n",
      "18\n",
      "f\n",
      "u5\n",
      "25\n",
      "f\n"
     ]
    }
   ],
   "source": [
    "loop.run_until_complete(test_get(loop))"
   ]
  },
  {
   "cell_type": "code",
   "execution_count": 28,
   "metadata": {
    "collapsed": true
   },
   "outputs": [],
   "source": [
    "import csv"
   ]
  },
  {
   "cell_type": "code",
   "execution_count": 29,
   "metadata": {},
   "outputs": [
    {
     "name": "stdout",
     "output_type": "stream",
     "text": [
      "['id', 'name', 'age', 'sex']\n",
      "['1', 'u1', '18', 'f']\n",
      "['2', 'u2', '17', 'f']\n",
      "['3', 'u3', '16', 'm']\n",
      "['4', 'u4', '15', 'f']\n"
     ]
    }
   ],
   "source": [
    "with open('0_user_out.csv') as f:\n",
    "    reader = csv.reader(f)\n",
    "    for row in reader:\n",
    "        print(row)\n",
    "    "
   ]
  },
  {
   "cell_type": "code",
   "execution_count": 30,
   "metadata": {},
   "outputs": [
    {
     "name": "stdout",
     "output_type": "stream",
     "text": [
      "id,name,age,sex\n",
      "\n"
     ]
    }
   ],
   "source": [
    "with open('0_user_out.csv') as f:\n",
    "    \n",
    "    s = f.readline()\n",
    "    print(s)\n",
    "    s = f.readline()\n",
    "    "
   ]
  },
  {
   "cell_type": "code",
   "execution_count": 11,
   "metadata": {
    "collapsed": true
   },
   "outputs": [],
   "source": [
    "from playhouse.postgres_ext import JSONField,BinaryJSONField"
   ]
  },
  {
   "cell_type": "code",
   "execution_count": 12,
   "metadata": {
    "collapsed": true
   },
   "outputs": [],
   "source": [
    "class APIResponse(AioModel):\n",
    "    url = CharField()\n",
    "    response = BinaryJSONField()\n",
    "\n",
    "    class Meta:\n",
    "        database = db"
   ]
  },
  {
   "cell_type": "code",
   "execution_count": 13,
   "metadata": {
    "collapsed": true
   },
   "outputs": [],
   "source": [
    "async def test_json(loop):\n",
    "    await db.connect(loop)\n",
    "    assert await APIResponse.table_exists() is False\n",
    "    await APIResponse.create_table()\n",
    "    assert await APIResponse.table_exists() is True\n",
    "    iq = APIResponse.insert_many([\n",
    "       dict(url='http://foo.com/baz/', response={'key': 'value'})\n",
    "    ])\n",
    "    await iq.execute()\n",
    "    query = await APIResponse.select()\n",
    "    print([i.response for i in query])\n",
    "    for i in query:\n",
    "        i.response = {'key': 'value1'}\n",
    "        i.save()\n",
    "    \n",
    "    await APIResponse.drop_table()\n",
    "    await db.close()"
   ]
  },
  {
   "cell_type": "code",
   "execution_count": 14,
   "metadata": {},
   "outputs": [
    {
     "name": "stdout",
     "output_type": "stream",
     "text": [
      "[{'key': 'value'}]\n"
     ]
    }
   ],
   "source": [
    "loop.run_until_complete(test_json(loop))"
   ]
  },
  {
   "cell_type": "code",
   "execution_count": 35,
   "metadata": {
    "collapsed": true
   },
   "outputs": [],
   "source": [
    "from playhouse.postgres_ext import ArrayField"
   ]
  },
  {
   "cell_type": "code",
   "execution_count": 17,
   "metadata": {
    "collapsed": true
   },
   "outputs": [],
   "source": [
    "class BlogPost(AioModel):\n",
    "    content = TextField()\n",
    "    tags = ArrayField(CharField)\n"
   ]
  },
  {
   "cell_type": "code",
   "execution_count": null,
   "metadata": {
    "collapsed": true
   },
   "outputs": [],
   "source": []
  },
  {
   "cell_type": "code",
   "execution_count": null,
   "metadata": {
    "collapsed": true
   },
   "outputs": [],
   "source": []
  }
 ],
 "metadata": {
  "kernelspec": {
   "display_name": "Python 3",
   "language": "python",
   "name": "python3"
  },
  "language_info": {
   "codemirror_mode": {
    "name": "ipython",
    "version": 3
   },
   "file_extension": ".py",
   "mimetype": "text/x-python",
   "name": "python",
   "nbconvert_exporter": "python",
   "pygments_lexer": "ipython3",
   "version": "3.6.0"
  }
 },
 "nbformat": 4,
 "nbformat_minor": 2
}
